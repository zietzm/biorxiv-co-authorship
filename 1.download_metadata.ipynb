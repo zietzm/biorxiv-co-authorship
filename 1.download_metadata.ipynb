{
 "cells": [
  {
   "cell_type": "code",
   "execution_count": 1,
   "metadata": {},
   "outputs": [],
   "source": [
    "import json\n",
    "import re\n",
    "\n",
    "from bs4 import BeautifulSoup\n",
    "import requests\n",
    "import tqdm"
   ]
  },
  {
   "cell_type": "code",
   "execution_count": 2,
   "metadata": {},
   "outputs": [
    {
     "data": {
      "application/vnd.jupyter.widget-view+json": {
       "model_id": "f2cb2bd5ebac46a8811fd333383da6cb",
       "version_major": 2,
       "version_minor": 0
      },
      "text/plain": [
       "HBox(children=(IntProgress(value=0, max=4546), HTML(value='')))"
      ]
     },
     "metadata": {},
     "output_type": "display_data"
    },
    {
     "name": "stdout",
     "output_type": "stream",
     "text": [
      "\n"
     ]
    }
   ],
   "source": [
    "num_pages = 4546  # As of March 23, 2019\n",
    "\n",
    "articles = list()\n",
    "for index in tqdm.tnrange(num_pages):\n",
    "    url = f'https://www.biorxiv.org/content/early/recent?page={index}'\n",
    "    res = requests.get(url)\n",
    "    soup = BeautifulSoup(res.content)\n",
    "    page_articles = soup.find_all('div', {'class': 'highwire-article-citation'})\n",
    "    \n",
    "    for article_html in page_articles:\n",
    "        article_dict = dict()\n",
    "        \n",
    "        article_dict['url'] = article_html.find(\n",
    "            'span', {'class': 'highwire-cite-metadata-doi'}\n",
    "        ).contents[1].strip()\n",
    "        \n",
    "        # Date is in format like \"YYYY/MM/DD\"\n",
    "        article_dict['date'] = re.search('(?<=/)[0-9]{4}/[0-9]{2}/[0-9]{2}', \n",
    "                                         article_html.attrs['data-apath']).group()\n",
    "\n",
    "        authors_html = article_html.find_all('span', {'class': 'highwire-citation-author'})\n",
    "        for author in authors_html:\n",
    "            # Don't include collaborations or consortia as authors\n",
    "            if author.find('span', {'class': 'nlm-collab'}):\n",
    "                continue\n",
    "            first = author.find('span', {'class': 'nlm-given-names'})\n",
    "            first = first.text if first else \"\"  # Some authors have only a surname\n",
    "            last = author.find('span', {'class': 'nlm-surname'}).text\n",
    "            article_dict.setdefault('authors', list()).append((last, first))\n",
    "        \n",
    "        # Only add articles that have non-collaboration authors\n",
    "        if article_dict.get('authors'):\n",
    "            articles.append(article_dict)\n",
    "        \n",
    "with open('articles.json', 'w') as f:\n",
    "    json.dump(articles, f, indent=2)"
   ]
  }
 ],
 "metadata": {
  "kernelspec": {
   "display_name": "Python [conda env:biorxiv]",
   "language": "python",
   "name": "conda-env-biorxiv-py"
  },
  "language_info": {
   "codemirror_mode": {
    "name": "ipython",
    "version": 3
   },
   "file_extension": ".py",
   "mimetype": "text/x-python",
   "name": "python",
   "nbconvert_exporter": "python",
   "pygments_lexer": "ipython3",
   "version": "3.6.6"
  }
 },
 "nbformat": 4,
 "nbformat_minor": 2
}
