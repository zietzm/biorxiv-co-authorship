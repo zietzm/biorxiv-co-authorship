{
 "cells": [
  {
   "cell_type": "code",
   "execution_count": 1,
   "metadata": {},
   "outputs": [],
   "source": [
    "import itertools\n",
    "import json\n",
    "import re\n",
    "\n",
    "import numpy as np\n",
    "import pandas as pd"
   ]
  },
  {
   "cell_type": "code",
   "execution_count": 2,
   "metadata": {},
   "outputs": [],
   "source": [
    "with open('articles.json', 'r') as f:\n",
    "    articles = json.load(f)"
   ]
  },
  {
   "cell_type": "code",
   "execution_count": null,
   "metadata": {},
   "outputs": [],
   "source": [
    "df = (\n",
    "    pd.DataFrame\n",
    "    .from_records(articles)\n",
    "    .assign(\n",
    "        year=lambda df: df['date'].apply(lambda x: x.split('/')[0]),\n",
    "        month=lambda df: df['date'].apply(lambda x: x.split('/')[1]),\n",
    "        doi=lambda df: df['url'].apply(lambda x: re.search('10.1101/[0-9]+', x).group())\n",
    "    )\n",
    "    .filter(items=['doi', 'authors', 'year', 'month', 'url'])\n",
    ")\n",
    "\n",
    "df.head(2)"
   ]
  },
  {
   "cell_type": "code",
   "execution_count": null,
   "metadata": {},
   "outputs": [],
   "source": [
    "authors = set()\n",
    "for paper_authors in df['authors'].values.tolist():\n",
    "    for author in paper_authors:\n",
    "        authors.add(tuple(author))\n",
    "authors = sorted(authors)\n",
    "\n",
    "author_mapping = {k: v for k, v in zip(authors, range(len(authors)))}\n",
    "df['mapped_authors'] = df['authors'].apply(lambda x: list(map(author_mapping.get, map(tuple, x))))\n",
    "\n",
    "df.head(2)"
   ]
  },
  {
   "cell_type": "code",
   "execution_count": null,
   "metadata": {
    "scrolled": true
   },
   "outputs": [],
   "source": [
    "edges = (\n",
    "    df\n",
    "    .apply(lambda row: \n",
    "           [pair + (int(row['year']),) for pair in itertools.product(\n",
    "               row['mapped_authors'], row['mapped_authors']\n",
    "           )],\n",
    "           axis=1)\n",
    "    .values\n",
    ")\n",
    "edges = (\n",
    "    pd.DataFrame(\n",
    "        [rel for paper_list in edges for rel in paper_list], \n",
    "        columns=['id_a', 'id_b', 'year']\n",
    "    )\n",
    "    .query('id_a < id_b')  # itertools.product includes self relationships and duplicates\n",
    "    .reset_index(drop=True)\n",
    ")\n",
    "edges.to_csv('biorxiv_coauthor.tsv.xz', sep='\\t', index=False, compression='xz')\n",
    "edges.head()"
   ]
  }
 ],
 "metadata": {
  "kernelspec": {
   "display_name": "Python [conda env:biorxiv]",
   "language": "python",
   "name": "conda-env-biorxiv-py"
  },
  "language_info": {
   "codemirror_mode": {
    "name": "ipython",
    "version": 3
   },
   "file_extension": ".py",
   "mimetype": "text/x-python",
   "name": "python",
   "nbconvert_exporter": "python",
   "pygments_lexer": "ipython3",
   "version": "3.6.6"
  }
 },
 "nbformat": 4,
 "nbformat_minor": 2
}
