{
 "cells": [
  {
   "cell_type": "code",
   "execution_count": 1,
   "metadata": {},
   "outputs": [],
   "source": [
    "import itertools\n",
    "import json\n",
    "import re\n",
    "\n",
    "import numpy as np\n",
    "import pandas as pd"
   ]
  },
  {
   "cell_type": "code",
   "execution_count": 2,
   "metadata": {},
   "outputs": [],
   "source": [
    "with open('articles.json', 'r') as f:\n",
    "    articles = json.load(f)"
   ]
  },
  {
   "cell_type": "code",
   "execution_count": 3,
   "metadata": {},
   "outputs": [
    {
     "data": {
      "text/html": [
       "<div>\n",
       "<style scoped>\n",
       "    .dataframe tbody tr th:only-of-type {\n",
       "        vertical-align: middle;\n",
       "    }\n",
       "\n",
       "    .dataframe tbody tr th {\n",
       "        vertical-align: top;\n",
       "    }\n",
       "\n",
       "    .dataframe thead th {\n",
       "        text-align: right;\n",
       "    }\n",
       "</style>\n",
       "<table border=\"1\" class=\"dataframe\">\n",
       "  <thead>\n",
       "    <tr style=\"text-align: right;\">\n",
       "      <th></th>\n",
       "      <th>doi</th>\n",
       "      <th>authors</th>\n",
       "      <th>year</th>\n",
       "      <th>month</th>\n",
       "      <th>url</th>\n",
       "    </tr>\n",
       "  </thead>\n",
       "  <tbody>\n",
       "    <tr>\n",
       "      <th>0</th>\n",
       "      <td>10.1101/585034</td>\n",
       "      <td>[[Tuszynski, Jack Adam], [Satarić, Miljko], [N...</td>\n",
       "      <td>2019</td>\n",
       "      <td>03</td>\n",
       "      <td>https://doi.org/10.1101/585034</td>\n",
       "    </tr>\n",
       "    <tr>\n",
       "      <th>1</th>\n",
       "      <td>10.1101/586305</td>\n",
       "      <td>[[Grey, Michael J], [Cloots, Eva], [Simpson, M...</td>\n",
       "      <td>2019</td>\n",
       "      <td>03</td>\n",
       "      <td>https://doi.org/10.1101/586305</td>\n",
       "    </tr>\n",
       "  </tbody>\n",
       "</table>\n",
       "</div>"
      ],
      "text/plain": [
       "              doi                                            authors  year  \\\n",
       "0  10.1101/585034  [[Tuszynski, Jack Adam], [Satarić, Miljko], [N...  2019   \n",
       "1  10.1101/586305  [[Grey, Michael J], [Cloots, Eva], [Simpson, M...  2019   \n",
       "\n",
       "  month                             url  \n",
       "0    03  https://doi.org/10.1101/585034  \n",
       "1    03  https://doi.org/10.1101/586305  "
      ]
     },
     "execution_count": 3,
     "metadata": {},
     "output_type": "execute_result"
    }
   ],
   "source": [
    "df = (\n",
    "    pd.DataFrame\n",
    "    .from_records(articles)\n",
    "    .assign(\n",
    "        year=lambda df: df['date'].apply(lambda x: x.split('/')[0]),\n",
    "        month=lambda df: df['date'].apply(lambda x: x.split('/')[1]),\n",
    "        doi=lambda df: df['url'].apply(lambda x: re.search('10.1101/[0-9]+', x).group())\n",
    "    )\n",
    "    .filter(items=['doi', 'authors', 'year', 'month', 'url'])\n",
    ")\n",
    "\n",
    "df.head(2)"
   ]
  },
  {
   "cell_type": "code",
   "execution_count": 4,
   "metadata": {},
   "outputs": [
    {
     "data": {
      "text/html": [
       "<div>\n",
       "<style scoped>\n",
       "    .dataframe tbody tr th:only-of-type {\n",
       "        vertical-align: middle;\n",
       "    }\n",
       "\n",
       "    .dataframe tbody tr th {\n",
       "        vertical-align: top;\n",
       "    }\n",
       "\n",
       "    .dataframe thead th {\n",
       "        text-align: right;\n",
       "    }\n",
       "</style>\n",
       "<table border=\"1\" class=\"dataframe\">\n",
       "  <thead>\n",
       "    <tr style=\"text-align: right;\">\n",
       "      <th></th>\n",
       "      <th>doi</th>\n",
       "      <th>authors</th>\n",
       "      <th>year</th>\n",
       "      <th>month</th>\n",
       "      <th>url</th>\n",
       "      <th>mapped_authors</th>\n",
       "    </tr>\n",
       "  </thead>\n",
       "  <tbody>\n",
       "    <tr>\n",
       "      <th>0</th>\n",
       "      <td>10.1101/585034</td>\n",
       "      <td>[[Tuszynski, Jack Adam], [Satarić, Miljko], [N...</td>\n",
       "      <td>2019</td>\n",
       "      <td>03</td>\n",
       "      <td>https://doi.org/10.1101/585034</td>\n",
       "      <td>[188713, 163269, 132685, 167153]</td>\n",
       "    </tr>\n",
       "    <tr>\n",
       "      <th>1</th>\n",
       "      <td>10.1101/586305</td>\n",
       "      <td>[[Grey, Michael J], [Cloots, Eva], [Simpson, M...</td>\n",
       "      <td>2019</td>\n",
       "      <td>03</td>\n",
       "      <td>https://doi.org/10.1101/586305</td>\n",
       "      <td>[66515, 34020, 171931, 102857, 167621, 40868, ...</td>\n",
       "    </tr>\n",
       "  </tbody>\n",
       "</table>\n",
       "</div>"
      ],
      "text/plain": [
       "              doi                                            authors  year  \\\n",
       "0  10.1101/585034  [[Tuszynski, Jack Adam], [Satarić, Miljko], [N...  2019   \n",
       "1  10.1101/586305  [[Grey, Michael J], [Cloots, Eva], [Simpson, M...  2019   \n",
       "\n",
       "  month                             url  \\\n",
       "0    03  https://doi.org/10.1101/585034   \n",
       "1    03  https://doi.org/10.1101/586305   \n",
       "\n",
       "                                      mapped_authors  \n",
       "0                   [188713, 163269, 132685, 167153]  \n",
       "1  [66515, 34020, 171931, 102857, 167621, 40868, ...  "
      ]
     },
     "execution_count": 4,
     "metadata": {},
     "output_type": "execute_result"
    }
   ],
   "source": [
    "authors = set()\n",
    "for paper_authors in df['authors'].values.tolist():\n",
    "    for author in paper_authors:\n",
    "        authors.add(tuple(author))\n",
    "authors = sorted(authors)\n",
    "\n",
    "author_mapping = {k: v for k, v in zip(authors, range(len(authors)))}\n",
    "df['mapped_authors'] = df['authors'].apply(lambda x: list(map(author_mapping.get, map(tuple, x))))\n",
    "\n",
    "df.head(2)"
   ]
  },
  {
   "cell_type": "code",
   "execution_count": 5,
   "metadata": {
    "scrolled": true
   },
   "outputs": [
    {
     "data": {
      "text/html": [
       "<div>\n",
       "<style scoped>\n",
       "    .dataframe tbody tr th:only-of-type {\n",
       "        vertical-align: middle;\n",
       "    }\n",
       "\n",
       "    .dataframe tbody tr th {\n",
       "        vertical-align: top;\n",
       "    }\n",
       "\n",
       "    .dataframe thead th {\n",
       "        text-align: right;\n",
       "    }\n",
       "</style>\n",
       "<table border=\"1\" class=\"dataframe\">\n",
       "  <thead>\n",
       "    <tr style=\"text-align: right;\">\n",
       "      <th></th>\n",
       "      <th>id_a</th>\n",
       "      <th>id_b</th>\n",
       "      <th>year</th>\n",
       "    </tr>\n",
       "  </thead>\n",
       "  <tbody>\n",
       "    <tr>\n",
       "      <th>0</th>\n",
       "      <td>188713</td>\n",
       "      <td>163269</td>\n",
       "      <td>2019</td>\n",
       "    </tr>\n",
       "    <tr>\n",
       "      <th>1</th>\n",
       "      <td>188713</td>\n",
       "      <td>132685</td>\n",
       "      <td>2019</td>\n",
       "    </tr>\n",
       "    <tr>\n",
       "      <th>2</th>\n",
       "      <td>188713</td>\n",
       "      <td>167153</td>\n",
       "      <td>2019</td>\n",
       "    </tr>\n",
       "    <tr>\n",
       "      <th>3</th>\n",
       "      <td>163269</td>\n",
       "      <td>188713</td>\n",
       "      <td>2019</td>\n",
       "    </tr>\n",
       "    <tr>\n",
       "      <th>4</th>\n",
       "      <td>163269</td>\n",
       "      <td>132685</td>\n",
       "      <td>2019</td>\n",
       "    </tr>\n",
       "  </tbody>\n",
       "</table>\n",
       "</div>"
      ],
      "text/plain": [
       "     id_a    id_b  year\n",
       "0  188713  163269  2019\n",
       "1  188713  132685  2019\n",
       "2  188713  167153  2019\n",
       "3  163269  188713  2019\n",
       "4  163269  132685  2019"
      ]
     },
     "execution_count": 5,
     "metadata": {},
     "output_type": "execute_result"
    }
   ],
   "source": [
    "edges = (\n",
    "    df\n",
    "    .apply(lambda row: \n",
    "           [pair + (int(row['year']),) for pair in itertools.product(\n",
    "               row['mapped_authors'], row['mapped_authors']\n",
    "           )],\n",
    "           axis=1)\n",
    "    .values\n",
    ")\n",
    "edges = (\n",
    "    pd.DataFrame(\n",
    "        [rel for paper_list in edges for rel in paper_list], \n",
    "        columns=['id_a', 'id_b', 'year']\n",
    "    )\n",
    "    .query('id_a != id_b')  # itertools.product includes self relationships\n",
    "    .reset_index(drop=True)\n",
    ")\n",
    "edges.to_csv('biorxiv_coauthor.tsv.xz', sep='\\t', index=False, compression='xz')\n",
    "edges.head()"
   ]
  }
 ],
 "metadata": {
  "kernelspec": {
   "display_name": "Python [conda env:biorxiv]",
   "language": "python",
   "name": "conda-env-biorxiv-py"
  },
  "language_info": {
   "codemirror_mode": {
    "name": "ipython",
    "version": 3
   },
   "file_extension": ".py",
   "mimetype": "text/x-python",
   "name": "python",
   "nbconvert_exporter": "python",
   "pygments_lexer": "ipython3",
   "version": "3.6.6"
  }
 },
 "nbformat": 4,
 "nbformat_minor": 2
}
